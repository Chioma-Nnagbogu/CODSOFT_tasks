{
 "cells": [
  {
   "cell_type": "code",
   "execution_count": 1,
   "id": "36548d7c",
   "metadata": {
    "_cell_guid": "b1076dfc-b9ad-4769-8c92-a6c4dae69d19",
    "_uuid": "8f2839f25d086af736a60e9eeb907d3b93b6e0e5",
    "execution": {
     "iopub.execute_input": "2024-06-20T09:49:42.281341Z",
     "iopub.status.busy": "2024-06-20T09:49:42.280939Z",
     "iopub.status.idle": "2024-06-20T09:49:43.155934Z",
     "shell.execute_reply": "2024-06-20T09:49:43.154637Z"
    },
    "papermill": {
     "duration": 0.89143,
     "end_time": "2024-06-20T09:49:43.158546",
     "exception": false,
     "start_time": "2024-06-20T09:49:42.267116",
     "status": "completed"
    },
    "tags": []
   },
   "outputs": [
    {
     "name": "stdout",
     "output_type": "stream",
     "text": [
      "/kaggle/input/titanic-dataset/Titanic-Dataset.csv\n"
     ]
    }
   ],
   "source": [
    "# This Python 3 environment comes with many helpful analytics libraries installed\n",
    "# It is defined by the kaggle/python Docker image: https://github.com/kaggle/docker-python\n",
    "# For example, here's several helpful packages to load\n",
    "\n",
    "import numpy as np # linear algebra\n",
    "import pandas as pd # data processing, CSV file I/O (e.g. pd.read_csv)\n",
    "\n",
    "# Input data files are available in the read-only \"../input/\" directory\n",
    "# For example, running this (by clicking run or pressing Shift+Enter) will list all files under the input directory\n",
    "\n",
    "import os\n",
    "for dirname, _, filenames in os.walk('/kaggle/input'):\n",
    "    for filename in filenames:\n",
    "        print(os.path.join(dirname, filename))\n",
    "\n",
    "# You can write up to 20GB to the current directory (/kaggle/working/) that gets preserved as output when you create a version using \"Save & Run All\" \n",
    "# You can also write temporary files to /kaggle/temp/, but they won't be saved outside of the current session"
   ]
  },
  {
   "cell_type": "code",
   "execution_count": 2,
   "id": "08edb4a3",
   "metadata": {
    "execution": {
     "iopub.execute_input": "2024-06-20T09:49:43.182077Z",
     "iopub.status.busy": "2024-06-20T09:49:43.181559Z",
     "iopub.status.idle": "2024-06-20T09:49:44.467277Z",
     "shell.execute_reply": "2024-06-20T09:49:44.466201Z"
    },
    "papermill": {
     "duration": 1.300522,
     "end_time": "2024-06-20T09:49:44.469999",
     "exception": false,
     "start_time": "2024-06-20T09:49:43.169477",
     "status": "completed"
    },
    "tags": []
   },
   "outputs": [],
   "source": [
    "import pandas as pd\n",
    "import numpy as np\n",
    "import matplotlib.pyplot as plt\n",
    "import seaborn as sns"
   ]
  },
  {
   "cell_type": "code",
   "execution_count": 3,
   "id": "b4e630ef",
   "metadata": {
    "execution": {
     "iopub.execute_input": "2024-06-20T09:49:44.492796Z",
     "iopub.status.busy": "2024-06-20T09:49:44.492389Z",
     "iopub.status.idle": "2024-06-20T09:49:44.514108Z",
     "shell.execute_reply": "2024-06-20T09:49:44.512778Z"
    },
    "papermill": {
     "duration": 0.036286,
     "end_time": "2024-06-20T09:49:44.516846",
     "exception": false,
     "start_time": "2024-06-20T09:49:44.480560",
     "status": "completed"
    },
    "tags": []
   },
   "outputs": [],
   "source": [
    "df = pd.read_csv('/kaggle/input/titanic-dataset/Titanic-Dataset.csv')"
   ]
  },
  {
   "cell_type": "code",
   "execution_count": 4,
   "id": "8d6278ef",
   "metadata": {
    "execution": {
     "iopub.execute_input": "2024-06-20T09:49:44.540121Z",
     "iopub.status.busy": "2024-06-20T09:49:44.539202Z",
     "iopub.status.idle": "2024-06-20T09:49:44.569302Z",
     "shell.execute_reply": "2024-06-20T09:49:44.567935Z"
    },
    "papermill": {
     "duration": 0.04442,
     "end_time": "2024-06-20T09:49:44.571953",
     "exception": false,
     "start_time": "2024-06-20T09:49:44.527533",
     "status": "completed"
    },
    "tags": []
   },
   "outputs": [
    {
     "name": "stdout",
     "output_type": "stream",
     "text": [
      "<class 'pandas.core.frame.DataFrame'>\n",
      "RangeIndex: 891 entries, 0 to 890\n",
      "Data columns (total 12 columns):\n",
      " #   Column       Non-Null Count  Dtype  \n",
      "---  ------       --------------  -----  \n",
      " 0   PassengerId  891 non-null    int64  \n",
      " 1   Survived     891 non-null    int64  \n",
      " 2   Pclass       891 non-null    int64  \n",
      " 3   Name         891 non-null    object \n",
      " 4   Sex          891 non-null    object \n",
      " 5   Age          714 non-null    float64\n",
      " 6   SibSp        891 non-null    int64  \n",
      " 7   Parch        891 non-null    int64  \n",
      " 8   Ticket       891 non-null    object \n",
      " 9   Fare         891 non-null    float64\n",
      " 10  Cabin        204 non-null    object \n",
      " 11  Embarked     889 non-null    object \n",
      "dtypes: float64(2), int64(5), object(5)\n",
      "memory usage: 83.7+ KB\n"
     ]
    }
   ],
   "source": [
    "df.info()"
   ]
  },
  {
   "cell_type": "code",
   "execution_count": 5,
   "id": "ffd686d0",
   "metadata": {
    "execution": {
     "iopub.execute_input": "2024-06-20T09:49:44.595689Z",
     "iopub.status.busy": "2024-06-20T09:49:44.594690Z",
     "iopub.status.idle": "2024-06-20T09:49:44.625799Z",
     "shell.execute_reply": "2024-06-20T09:49:44.624729Z"
    },
    "papermill": {
     "duration": 0.045267,
     "end_time": "2024-06-20T09:49:44.628173",
     "exception": false,
     "start_time": "2024-06-20T09:49:44.582906",
     "status": "completed"
    },
    "tags": []
   },
   "outputs": [
    {
     "data": {
      "text/html": [
       "<div>\n",
       "<style scoped>\n",
       "    .dataframe tbody tr th:only-of-type {\n",
       "        vertical-align: middle;\n",
       "    }\n",
       "\n",
       "    .dataframe tbody tr th {\n",
       "        vertical-align: top;\n",
       "    }\n",
       "\n",
       "    .dataframe thead th {\n",
       "        text-align: right;\n",
       "    }\n",
       "</style>\n",
       "<table border=\"1\" class=\"dataframe\">\n",
       "  <thead>\n",
       "    <tr style=\"text-align: right;\">\n",
       "      <th></th>\n",
       "      <th>PassengerId</th>\n",
       "      <th>Survived</th>\n",
       "      <th>Pclass</th>\n",
       "      <th>Name</th>\n",
       "      <th>Sex</th>\n",
       "      <th>Age</th>\n",
       "      <th>SibSp</th>\n",
       "      <th>Parch</th>\n",
       "      <th>Ticket</th>\n",
       "      <th>Fare</th>\n",
       "      <th>Cabin</th>\n",
       "      <th>Embarked</th>\n",
       "    </tr>\n",
       "  </thead>\n",
       "  <tbody>\n",
       "    <tr>\n",
       "      <th>0</th>\n",
       "      <td>1</td>\n",
       "      <td>0</td>\n",
       "      <td>3</td>\n",
       "      <td>Braund, Mr. Owen Harris</td>\n",
       "      <td>male</td>\n",
       "      <td>22.0</td>\n",
       "      <td>1</td>\n",
       "      <td>0</td>\n",
       "      <td>A/5 21171</td>\n",
       "      <td>7.2500</td>\n",
       "      <td>NaN</td>\n",
       "      <td>S</td>\n",
       "    </tr>\n",
       "    <tr>\n",
       "      <th>1</th>\n",
       "      <td>2</td>\n",
       "      <td>1</td>\n",
       "      <td>1</td>\n",
       "      <td>Cumings, Mrs. John Bradley (Florence Briggs Th...</td>\n",
       "      <td>female</td>\n",
       "      <td>38.0</td>\n",
       "      <td>1</td>\n",
       "      <td>0</td>\n",
       "      <td>PC 17599</td>\n",
       "      <td>71.2833</td>\n",
       "      <td>C85</td>\n",
       "      <td>C</td>\n",
       "    </tr>\n",
       "    <tr>\n",
       "      <th>2</th>\n",
       "      <td>3</td>\n",
       "      <td>1</td>\n",
       "      <td>3</td>\n",
       "      <td>Heikkinen, Miss. Laina</td>\n",
       "      <td>female</td>\n",
       "      <td>26.0</td>\n",
       "      <td>0</td>\n",
       "      <td>0</td>\n",
       "      <td>STON/O2. 3101282</td>\n",
       "      <td>7.9250</td>\n",
       "      <td>NaN</td>\n",
       "      <td>S</td>\n",
       "    </tr>\n",
       "    <tr>\n",
       "      <th>3</th>\n",
       "      <td>4</td>\n",
       "      <td>1</td>\n",
       "      <td>1</td>\n",
       "      <td>Futrelle, Mrs. Jacques Heath (Lily May Peel)</td>\n",
       "      <td>female</td>\n",
       "      <td>35.0</td>\n",
       "      <td>1</td>\n",
       "      <td>0</td>\n",
       "      <td>113803</td>\n",
       "      <td>53.1000</td>\n",
       "      <td>C123</td>\n",
       "      <td>S</td>\n",
       "    </tr>\n",
       "    <tr>\n",
       "      <th>4</th>\n",
       "      <td>5</td>\n",
       "      <td>0</td>\n",
       "      <td>3</td>\n",
       "      <td>Allen, Mr. William Henry</td>\n",
       "      <td>male</td>\n",
       "      <td>35.0</td>\n",
       "      <td>0</td>\n",
       "      <td>0</td>\n",
       "      <td>373450</td>\n",
       "      <td>8.0500</td>\n",
       "      <td>NaN</td>\n",
       "      <td>S</td>\n",
       "    </tr>\n",
       "    <tr>\n",
       "      <th>...</th>\n",
       "      <td>...</td>\n",
       "      <td>...</td>\n",
       "      <td>...</td>\n",
       "      <td>...</td>\n",
       "      <td>...</td>\n",
       "      <td>...</td>\n",
       "      <td>...</td>\n",
       "      <td>...</td>\n",
       "      <td>...</td>\n",
       "      <td>...</td>\n",
       "      <td>...</td>\n",
       "      <td>...</td>\n",
       "    </tr>\n",
       "    <tr>\n",
       "      <th>886</th>\n",
       "      <td>887</td>\n",
       "      <td>0</td>\n",
       "      <td>2</td>\n",
       "      <td>Montvila, Rev. Juozas</td>\n",
       "      <td>male</td>\n",
       "      <td>27.0</td>\n",
       "      <td>0</td>\n",
       "      <td>0</td>\n",
       "      <td>211536</td>\n",
       "      <td>13.0000</td>\n",
       "      <td>NaN</td>\n",
       "      <td>S</td>\n",
       "    </tr>\n",
       "    <tr>\n",
       "      <th>887</th>\n",
       "      <td>888</td>\n",
       "      <td>1</td>\n",
       "      <td>1</td>\n",
       "      <td>Graham, Miss. Margaret Edith</td>\n",
       "      <td>female</td>\n",
       "      <td>19.0</td>\n",
       "      <td>0</td>\n",
       "      <td>0</td>\n",
       "      <td>112053</td>\n",
       "      <td>30.0000</td>\n",
       "      <td>B42</td>\n",
       "      <td>S</td>\n",
       "    </tr>\n",
       "    <tr>\n",
       "      <th>888</th>\n",
       "      <td>889</td>\n",
       "      <td>0</td>\n",
       "      <td>3</td>\n",
       "      <td>Johnston, Miss. Catherine Helen \"Carrie\"</td>\n",
       "      <td>female</td>\n",
       "      <td>NaN</td>\n",
       "      <td>1</td>\n",
       "      <td>2</td>\n",
       "      <td>W./C. 6607</td>\n",
       "      <td>23.4500</td>\n",
       "      <td>NaN</td>\n",
       "      <td>S</td>\n",
       "    </tr>\n",
       "    <tr>\n",
       "      <th>889</th>\n",
       "      <td>890</td>\n",
       "      <td>1</td>\n",
       "      <td>1</td>\n",
       "      <td>Behr, Mr. Karl Howell</td>\n",
       "      <td>male</td>\n",
       "      <td>26.0</td>\n",
       "      <td>0</td>\n",
       "      <td>0</td>\n",
       "      <td>111369</td>\n",
       "      <td>30.0000</td>\n",
       "      <td>C148</td>\n",
       "      <td>C</td>\n",
       "    </tr>\n",
       "    <tr>\n",
       "      <th>890</th>\n",
       "      <td>891</td>\n",
       "      <td>0</td>\n",
       "      <td>3</td>\n",
       "      <td>Dooley, Mr. Patrick</td>\n",
       "      <td>male</td>\n",
       "      <td>32.0</td>\n",
       "      <td>0</td>\n",
       "      <td>0</td>\n",
       "      <td>370376</td>\n",
       "      <td>7.7500</td>\n",
       "      <td>NaN</td>\n",
       "      <td>Q</td>\n",
       "    </tr>\n",
       "  </tbody>\n",
       "</table>\n",
       "<p>891 rows × 12 columns</p>\n",
       "</div>"
      ],
      "text/plain": [
       "     PassengerId  Survived  Pclass  \\\n",
       "0              1         0       3   \n",
       "1              2         1       1   \n",
       "2              3         1       3   \n",
       "3              4         1       1   \n",
       "4              5         0       3   \n",
       "..           ...       ...     ...   \n",
       "886          887         0       2   \n",
       "887          888         1       1   \n",
       "888          889         0       3   \n",
       "889          890         1       1   \n",
       "890          891         0       3   \n",
       "\n",
       "                                                  Name     Sex   Age  SibSp  \\\n",
       "0                              Braund, Mr. Owen Harris    male  22.0      1   \n",
       "1    Cumings, Mrs. John Bradley (Florence Briggs Th...  female  38.0      1   \n",
       "2                               Heikkinen, Miss. Laina  female  26.0      0   \n",
       "3         Futrelle, Mrs. Jacques Heath (Lily May Peel)  female  35.0      1   \n",
       "4                             Allen, Mr. William Henry    male  35.0      0   \n",
       "..                                                 ...     ...   ...    ...   \n",
       "886                              Montvila, Rev. Juozas    male  27.0      0   \n",
       "887                       Graham, Miss. Margaret Edith  female  19.0      0   \n",
       "888           Johnston, Miss. Catherine Helen \"Carrie\"  female   NaN      1   \n",
       "889                              Behr, Mr. Karl Howell    male  26.0      0   \n",
       "890                                Dooley, Mr. Patrick    male  32.0      0   \n",
       "\n",
       "     Parch            Ticket     Fare Cabin Embarked  \n",
       "0        0         A/5 21171   7.2500   NaN        S  \n",
       "1        0          PC 17599  71.2833   C85        C  \n",
       "2        0  STON/O2. 3101282   7.9250   NaN        S  \n",
       "3        0            113803  53.1000  C123        S  \n",
       "4        0            373450   8.0500   NaN        S  \n",
       "..     ...               ...      ...   ...      ...  \n",
       "886      0            211536  13.0000   NaN        S  \n",
       "887      0            112053  30.0000   B42        S  \n",
       "888      2        W./C. 6607  23.4500   NaN        S  \n",
       "889      0            111369  30.0000  C148        C  \n",
       "890      0            370376   7.7500   NaN        Q  \n",
       "\n",
       "[891 rows x 12 columns]"
      ]
     },
     "execution_count": 5,
     "metadata": {},
     "output_type": "execute_result"
    }
   ],
   "source": [
    "df.iloc[: ,0:]\n"
   ]
  },
  {
   "cell_type": "markdown",
   "id": "1d40dbec",
   "metadata": {
    "papermill": {
     "duration": 0.010774,
     "end_time": "2024-06-20T09:49:44.650235",
     "exception": false,
     "start_time": "2024-06-20T09:49:44.639461",
     "status": "completed"
    },
    "tags": []
   },
   "source": [
    "**Data Cleaning**"
   ]
  },
  {
   "cell_type": "code",
   "execution_count": 6,
   "id": "e0712d3b",
   "metadata": {
    "execution": {
     "iopub.execute_input": "2024-06-20T09:49:44.673965Z",
     "iopub.status.busy": "2024-06-20T09:49:44.673566Z",
     "iopub.status.idle": "2024-06-20T09:49:44.681727Z",
     "shell.execute_reply": "2024-06-20T09:49:44.680827Z"
    },
    "papermill": {
     "duration": 0.022698,
     "end_time": "2024-06-20T09:49:44.684061",
     "exception": false,
     "start_time": "2024-06-20T09:49:44.661363",
     "status": "completed"
    },
    "tags": []
   },
   "outputs": [],
   "source": [
    "df.drop_duplicates(inplace = True)"
   ]
  },
  {
   "cell_type": "code",
   "execution_count": 7,
   "id": "fa52d520",
   "metadata": {
    "execution": {
     "iopub.execute_input": "2024-06-20T09:49:44.708458Z",
     "iopub.status.busy": "2024-06-20T09:49:44.707646Z",
     "iopub.status.idle": "2024-06-20T09:49:44.717829Z",
     "shell.execute_reply": "2024-06-20T09:49:44.716754Z"
    },
    "papermill": {
     "duration": 0.024812,
     "end_time": "2024-06-20T09:49:44.720123",
     "exception": false,
     "start_time": "2024-06-20T09:49:44.695311",
     "status": "completed"
    },
    "tags": []
   },
   "outputs": [
    {
     "data": {
      "text/plain": [
       "PassengerId      0\n",
       "Survived         0\n",
       "Pclass           0\n",
       "Name             0\n",
       "Sex              0\n",
       "Age            177\n",
       "SibSp            0\n",
       "Parch            0\n",
       "Ticket           0\n",
       "Fare             0\n",
       "Cabin          687\n",
       "Embarked         2\n",
       "dtype: int64"
      ]
     },
     "execution_count": 7,
     "metadata": {},
     "output_type": "execute_result"
    }
   ],
   "source": [
    "df.isna().sum()"
   ]
  },
  {
   "cell_type": "code",
   "execution_count": 8,
   "id": "07dfc611",
   "metadata": {
    "execution": {
     "iopub.execute_input": "2024-06-20T09:49:44.744323Z",
     "iopub.status.busy": "2024-06-20T09:49:44.743418Z",
     "iopub.status.idle": "2024-06-20T09:49:44.749865Z",
     "shell.execute_reply": "2024-06-20T09:49:44.748910Z"
    },
    "papermill": {
     "duration": 0.021175,
     "end_time": "2024-06-20T09:49:44.752253",
     "exception": false,
     "start_time": "2024-06-20T09:49:44.731078",
     "status": "completed"
    },
    "tags": []
   },
   "outputs": [
    {
     "data": {
      "text/plain": [
       "(891, 12)"
      ]
     },
     "execution_count": 8,
     "metadata": {},
     "output_type": "execute_result"
    }
   ],
   "source": [
    "df.shape"
   ]
  },
  {
   "cell_type": "code",
   "execution_count": 9,
   "id": "514a4c5e",
   "metadata": {
    "execution": {
     "iopub.execute_input": "2024-06-20T09:49:44.776640Z",
     "iopub.status.busy": "2024-06-20T09:49:44.775884Z",
     "iopub.status.idle": "2024-06-20T09:49:44.782872Z",
     "shell.execute_reply": "2024-06-20T09:49:44.781784Z"
    },
    "papermill": {
     "duration": 0.02179,
     "end_time": "2024-06-20T09:49:44.785283",
     "exception": false,
     "start_time": "2024-06-20T09:49:44.763493",
     "status": "completed"
    },
    "tags": []
   },
   "outputs": [
    {
     "data": {
      "text/plain": [
       "Index(['PassengerId', 'Survived', 'Pclass', 'Name', 'Sex', 'Age', 'SibSp',\n",
       "       'Parch', 'Ticket', 'Fare', 'Cabin', 'Embarked'],\n",
       "      dtype='object')"
      ]
     },
     "execution_count": 9,
     "metadata": {},
     "output_type": "execute_result"
    }
   ],
   "source": [
    "df.columns"
   ]
  },
  {
   "cell_type": "code",
   "execution_count": 10,
   "id": "9f2c4c97",
   "metadata": {
    "execution": {
     "iopub.execute_input": "2024-06-20T09:49:44.811024Z",
     "iopub.status.busy": "2024-06-20T09:49:44.809881Z",
     "iopub.status.idle": "2024-06-20T09:49:44.816672Z",
     "shell.execute_reply": "2024-06-20T09:49:44.815567Z"
    },
    "papermill": {
     "duration": 0.022,
     "end_time": "2024-06-20T09:49:44.818912",
     "exception": false,
     "start_time": "2024-06-20T09:49:44.796912",
     "status": "completed"
    },
    "tags": []
   },
   "outputs": [],
   "source": [
    "columns_to_drop = ['PassengerId', 'Name', 'Ticket', 'Cabin']\n",
    "df = df.drop(columns=[col for col in columns_to_drop if col in df.columns])"
   ]
  },
  {
   "cell_type": "code",
   "execution_count": 11,
   "id": "913e3b15",
   "metadata": {
    "execution": {
     "iopub.execute_input": "2024-06-20T09:49:44.843342Z",
     "iopub.status.busy": "2024-06-20T09:49:44.842959Z",
     "iopub.status.idle": "2024-06-20T09:49:44.860200Z",
     "shell.execute_reply": "2024-06-20T09:49:44.859177Z"
    },
    "papermill": {
     "duration": 0.03253,
     "end_time": "2024-06-20T09:49:44.862555",
     "exception": false,
     "start_time": "2024-06-20T09:49:44.830025",
     "status": "completed"
    },
    "tags": []
   },
   "outputs": [
    {
     "data": {
      "text/html": [
       "<div>\n",
       "<style scoped>\n",
       "    .dataframe tbody tr th:only-of-type {\n",
       "        vertical-align: middle;\n",
       "    }\n",
       "\n",
       "    .dataframe tbody tr th {\n",
       "        vertical-align: top;\n",
       "    }\n",
       "\n",
       "    .dataframe thead th {\n",
       "        text-align: right;\n",
       "    }\n",
       "</style>\n",
       "<table border=\"1\" class=\"dataframe\">\n",
       "  <thead>\n",
       "    <tr style=\"text-align: right;\">\n",
       "      <th></th>\n",
       "      <th>Survived</th>\n",
       "      <th>Pclass</th>\n",
       "      <th>Sex</th>\n",
       "      <th>Age</th>\n",
       "      <th>SibSp</th>\n",
       "      <th>Parch</th>\n",
       "      <th>Fare</th>\n",
       "      <th>Embarked</th>\n",
       "    </tr>\n",
       "  </thead>\n",
       "  <tbody>\n",
       "    <tr>\n",
       "      <th>0</th>\n",
       "      <td>0</td>\n",
       "      <td>3</td>\n",
       "      <td>male</td>\n",
       "      <td>22.0</td>\n",
       "      <td>1</td>\n",
       "      <td>0</td>\n",
       "      <td>7.2500</td>\n",
       "      <td>S</td>\n",
       "    </tr>\n",
       "    <tr>\n",
       "      <th>1</th>\n",
       "      <td>1</td>\n",
       "      <td>1</td>\n",
       "      <td>female</td>\n",
       "      <td>38.0</td>\n",
       "      <td>1</td>\n",
       "      <td>0</td>\n",
       "      <td>71.2833</td>\n",
       "      <td>C</td>\n",
       "    </tr>\n",
       "    <tr>\n",
       "      <th>2</th>\n",
       "      <td>1</td>\n",
       "      <td>3</td>\n",
       "      <td>female</td>\n",
       "      <td>26.0</td>\n",
       "      <td>0</td>\n",
       "      <td>0</td>\n",
       "      <td>7.9250</td>\n",
       "      <td>S</td>\n",
       "    </tr>\n",
       "    <tr>\n",
       "      <th>3</th>\n",
       "      <td>1</td>\n",
       "      <td>1</td>\n",
       "      <td>female</td>\n",
       "      <td>35.0</td>\n",
       "      <td>1</td>\n",
       "      <td>0</td>\n",
       "      <td>53.1000</td>\n",
       "      <td>S</td>\n",
       "    </tr>\n",
       "    <tr>\n",
       "      <th>4</th>\n",
       "      <td>0</td>\n",
       "      <td>3</td>\n",
       "      <td>male</td>\n",
       "      <td>35.0</td>\n",
       "      <td>0</td>\n",
       "      <td>0</td>\n",
       "      <td>8.0500</td>\n",
       "      <td>S</td>\n",
       "    </tr>\n",
       "    <tr>\n",
       "      <th>...</th>\n",
       "      <td>...</td>\n",
       "      <td>...</td>\n",
       "      <td>...</td>\n",
       "      <td>...</td>\n",
       "      <td>...</td>\n",
       "      <td>...</td>\n",
       "      <td>...</td>\n",
       "      <td>...</td>\n",
       "    </tr>\n",
       "    <tr>\n",
       "      <th>886</th>\n",
       "      <td>0</td>\n",
       "      <td>2</td>\n",
       "      <td>male</td>\n",
       "      <td>27.0</td>\n",
       "      <td>0</td>\n",
       "      <td>0</td>\n",
       "      <td>13.0000</td>\n",
       "      <td>S</td>\n",
       "    </tr>\n",
       "    <tr>\n",
       "      <th>887</th>\n",
       "      <td>1</td>\n",
       "      <td>1</td>\n",
       "      <td>female</td>\n",
       "      <td>19.0</td>\n",
       "      <td>0</td>\n",
       "      <td>0</td>\n",
       "      <td>30.0000</td>\n",
       "      <td>S</td>\n",
       "    </tr>\n",
       "    <tr>\n",
       "      <th>888</th>\n",
       "      <td>0</td>\n",
       "      <td>3</td>\n",
       "      <td>female</td>\n",
       "      <td>NaN</td>\n",
       "      <td>1</td>\n",
       "      <td>2</td>\n",
       "      <td>23.4500</td>\n",
       "      <td>S</td>\n",
       "    </tr>\n",
       "    <tr>\n",
       "      <th>889</th>\n",
       "      <td>1</td>\n",
       "      <td>1</td>\n",
       "      <td>male</td>\n",
       "      <td>26.0</td>\n",
       "      <td>0</td>\n",
       "      <td>0</td>\n",
       "      <td>30.0000</td>\n",
       "      <td>C</td>\n",
       "    </tr>\n",
       "    <tr>\n",
       "      <th>890</th>\n",
       "      <td>0</td>\n",
       "      <td>3</td>\n",
       "      <td>male</td>\n",
       "      <td>32.0</td>\n",
       "      <td>0</td>\n",
       "      <td>0</td>\n",
       "      <td>7.7500</td>\n",
       "      <td>Q</td>\n",
       "    </tr>\n",
       "  </tbody>\n",
       "</table>\n",
       "<p>891 rows × 8 columns</p>\n",
       "</div>"
      ],
      "text/plain": [
       "     Survived  Pclass     Sex   Age  SibSp  Parch     Fare Embarked\n",
       "0           0       3    male  22.0      1      0   7.2500        S\n",
       "1           1       1  female  38.0      1      0  71.2833        C\n",
       "2           1       3  female  26.0      0      0   7.9250        S\n",
       "3           1       1  female  35.0      1      0  53.1000        S\n",
       "4           0       3    male  35.0      0      0   8.0500        S\n",
       "..        ...     ...     ...   ...    ...    ...      ...      ...\n",
       "886         0       2    male  27.0      0      0  13.0000        S\n",
       "887         1       1  female  19.0      0      0  30.0000        S\n",
       "888         0       3  female   NaN      1      2  23.4500        S\n",
       "889         1       1    male  26.0      0      0  30.0000        C\n",
       "890         0       3    male  32.0      0      0   7.7500        Q\n",
       "\n",
       "[891 rows x 8 columns]"
      ]
     },
     "execution_count": 11,
     "metadata": {},
     "output_type": "execute_result"
    }
   ],
   "source": [
    "df"
   ]
  },
  {
   "cell_type": "code",
   "execution_count": 12,
   "id": "e49baa2c",
   "metadata": {
    "execution": {
     "iopub.execute_input": "2024-06-20T09:49:44.887697Z",
     "iopub.status.busy": "2024-06-20T09:49:44.887282Z",
     "iopub.status.idle": "2024-06-20T09:49:44.896228Z",
     "shell.execute_reply": "2024-06-20T09:49:44.895020Z"
    },
    "papermill": {
     "duration": 0.024465,
     "end_time": "2024-06-20T09:49:44.898748",
     "exception": false,
     "start_time": "2024-06-20T09:49:44.874283",
     "status": "completed"
    },
    "tags": []
   },
   "outputs": [
    {
     "name": "stderr",
     "output_type": "stream",
     "text": [
      "/tmp/ipykernel_18/1933487976.py:1: FutureWarning: A value is trying to be set on a copy of a DataFrame or Series through chained assignment using an inplace method.\n",
      "The behavior will change in pandas 3.0. This inplace method will never work because the intermediate object on which we are setting values always behaves as a copy.\n",
      "\n",
      "For example, when doing 'df[col].method(value, inplace=True)', try using 'df.method({col: value}, inplace=True)' or df[col] = df[col].method(value) instead, to perform the operation inplace on the original object.\n",
      "\n",
      "\n",
      "  df['Age'].fillna(df['Age'].median(), inplace=True)\n"
     ]
    }
   ],
   "source": [
    "df['Age'].fillna(df['Age'].median(), inplace=True)"
   ]
  },
  {
   "cell_type": "code",
   "execution_count": 13,
   "id": "a55c9b41",
   "metadata": {
    "execution": {
     "iopub.execute_input": "2024-06-20T09:49:44.924128Z",
     "iopub.status.busy": "2024-06-20T09:49:44.923765Z",
     "iopub.status.idle": "2024-06-20T09:49:44.930874Z",
     "shell.execute_reply": "2024-06-20T09:49:44.929769Z"
    },
    "papermill": {
     "duration": 0.022906,
     "end_time": "2024-06-20T09:49:44.933318",
     "exception": false,
     "start_time": "2024-06-20T09:49:44.910412",
     "status": "completed"
    },
    "tags": []
   },
   "outputs": [
    {
     "name": "stderr",
     "output_type": "stream",
     "text": [
      "/tmp/ipykernel_18/3744086084.py:1: FutureWarning: A value is trying to be set on a copy of a DataFrame or Series through chained assignment using an inplace method.\n",
      "The behavior will change in pandas 3.0. This inplace method will never work because the intermediate object on which we are setting values always behaves as a copy.\n",
      "\n",
      "For example, when doing 'df[col].method(value, inplace=True)', try using 'df.method({col: value}, inplace=True)' or df[col] = df[col].method(value) instead, to perform the operation inplace on the original object.\n",
      "\n",
      "\n",
      "  df['Embarked'].fillna(df['Embarked'].mode()[0], inplace=True)\n"
     ]
    }
   ],
   "source": [
    "df['Embarked'].fillna(df['Embarked'].mode()[0], inplace=True)"
   ]
  },
  {
   "cell_type": "code",
   "execution_count": 14,
   "id": "1440a96a",
   "metadata": {
    "execution": {
     "iopub.execute_input": "2024-06-20T09:49:44.959738Z",
     "iopub.status.busy": "2024-06-20T09:49:44.959362Z",
     "iopub.status.idle": "2024-06-20T09:49:44.970511Z",
     "shell.execute_reply": "2024-06-20T09:49:44.969503Z"
    },
    "papermill": {
     "duration": 0.02739,
     "end_time": "2024-06-20T09:49:44.973032",
     "exception": false,
     "start_time": "2024-06-20T09:49:44.945642",
     "status": "completed"
    },
    "tags": []
   },
   "outputs": [
    {
     "name": "stdout",
     "output_type": "stream",
     "text": [
      "<class 'pandas.core.frame.DataFrame'>\n",
      "RangeIndex: 891 entries, 0 to 890\n",
      "Data columns (total 8 columns):\n",
      " #   Column    Non-Null Count  Dtype  \n",
      "---  ------    --------------  -----  \n",
      " 0   Survived  891 non-null    int64  \n",
      " 1   Pclass    891 non-null    int64  \n",
      " 2   Sex       891 non-null    object \n",
      " 3   Age       891 non-null    float64\n",
      " 4   SibSp     891 non-null    int64  \n",
      " 5   Parch     891 non-null    int64  \n",
      " 6   Fare      891 non-null    float64\n",
      " 7   Embarked  891 non-null    object \n",
      "dtypes: float64(2), int64(4), object(2)\n",
      "memory usage: 55.8+ KB\n"
     ]
    }
   ],
   "source": [
    "df.info()"
   ]
  },
  {
   "cell_type": "code",
   "execution_count": 15,
   "id": "d84c2b55",
   "metadata": {
    "execution": {
     "iopub.execute_input": "2024-06-20T09:49:44.998826Z",
     "iopub.status.busy": "2024-06-20T09:49:44.998420Z",
     "iopub.status.idle": "2024-06-20T09:49:45.007549Z",
     "shell.execute_reply": "2024-06-20T09:49:45.006709Z"
    },
    "papermill": {
     "duration": 0.024747,
     "end_time": "2024-06-20T09:49:45.009857",
     "exception": false,
     "start_time": "2024-06-20T09:49:44.985110",
     "status": "completed"
    },
    "tags": []
   },
   "outputs": [],
   "source": [
    "df = pd.get_dummies(df, columns=['Sex', 'Embarked'], drop_first=True) "
   ]
  },
  {
   "cell_type": "code",
   "execution_count": 16,
   "id": "b4857f11",
   "metadata": {
    "execution": {
     "iopub.execute_input": "2024-06-20T09:49:45.035191Z",
     "iopub.status.busy": "2024-06-20T09:49:45.034825Z",
     "iopub.status.idle": "2024-06-20T09:49:45.047308Z",
     "shell.execute_reply": "2024-06-20T09:49:45.046164Z"
    },
    "papermill": {
     "duration": 0.027889,
     "end_time": "2024-06-20T09:49:45.049780",
     "exception": false,
     "start_time": "2024-06-20T09:49:45.021891",
     "status": "completed"
    },
    "tags": []
   },
   "outputs": [
    {
     "data": {
      "text/plain": [
       "<bound method NDFrame.describe of      Survived  Pclass   Age  SibSp  Parch     Fare  Sex_male  Embarked_Q  \\\n",
       "0           0       3  22.0      1      0   7.2500      True       False   \n",
       "1           1       1  38.0      1      0  71.2833     False       False   \n",
       "2           1       3  26.0      0      0   7.9250     False       False   \n",
       "3           1       1  35.0      1      0  53.1000     False       False   \n",
       "4           0       3  35.0      0      0   8.0500      True       False   \n",
       "..        ...     ...   ...    ...    ...      ...       ...         ...   \n",
       "886         0       2  27.0      0      0  13.0000      True       False   \n",
       "887         1       1  19.0      0      0  30.0000     False       False   \n",
       "888         0       3  28.0      1      2  23.4500     False       False   \n",
       "889         1       1  26.0      0      0  30.0000      True       False   \n",
       "890         0       3  32.0      0      0   7.7500      True        True   \n",
       "\n",
       "     Embarked_S  \n",
       "0          True  \n",
       "1         False  \n",
       "2          True  \n",
       "3          True  \n",
       "4          True  \n",
       "..          ...  \n",
       "886        True  \n",
       "887        True  \n",
       "888        True  \n",
       "889       False  \n",
       "890       False  \n",
       "\n",
       "[891 rows x 9 columns]>"
      ]
     },
     "execution_count": 16,
     "metadata": {},
     "output_type": "execute_result"
    }
   ],
   "source": [
    "df.describe"
   ]
  },
  {
   "cell_type": "code",
   "execution_count": 17,
   "id": "dd4ba70d",
   "metadata": {
    "execution": {
     "iopub.execute_input": "2024-06-20T09:49:45.076992Z",
     "iopub.status.busy": "2024-06-20T09:49:45.076617Z",
     "iopub.status.idle": "2024-06-20T09:49:45.095544Z",
     "shell.execute_reply": "2024-06-20T09:49:45.094434Z"
    },
    "papermill": {
     "duration": 0.035183,
     "end_time": "2024-06-20T09:49:45.097892",
     "exception": false,
     "start_time": "2024-06-20T09:49:45.062709",
     "status": "completed"
    },
    "tags": []
   },
   "outputs": [
    {
     "data": {
      "text/html": [
       "<div>\n",
       "<style scoped>\n",
       "    .dataframe tbody tr th:only-of-type {\n",
       "        vertical-align: middle;\n",
       "    }\n",
       "\n",
       "    .dataframe tbody tr th {\n",
       "        vertical-align: top;\n",
       "    }\n",
       "\n",
       "    .dataframe thead th {\n",
       "        text-align: right;\n",
       "    }\n",
       "</style>\n",
       "<table border=\"1\" class=\"dataframe\">\n",
       "  <thead>\n",
       "    <tr style=\"text-align: right;\">\n",
       "      <th></th>\n",
       "      <th>Survived</th>\n",
       "      <th>Pclass</th>\n",
       "      <th>Age</th>\n",
       "      <th>SibSp</th>\n",
       "      <th>Parch</th>\n",
       "      <th>Fare</th>\n",
       "      <th>Sex_male</th>\n",
       "      <th>Embarked_Q</th>\n",
       "      <th>Embarked_S</th>\n",
       "    </tr>\n",
       "  </thead>\n",
       "  <tbody>\n",
       "    <tr>\n",
       "      <th>0</th>\n",
       "      <td>0</td>\n",
       "      <td>3</td>\n",
       "      <td>22.0</td>\n",
       "      <td>1</td>\n",
       "      <td>0</td>\n",
       "      <td>7.2500</td>\n",
       "      <td>True</td>\n",
       "      <td>False</td>\n",
       "      <td>True</td>\n",
       "    </tr>\n",
       "    <tr>\n",
       "      <th>1</th>\n",
       "      <td>1</td>\n",
       "      <td>1</td>\n",
       "      <td>38.0</td>\n",
       "      <td>1</td>\n",
       "      <td>0</td>\n",
       "      <td>71.2833</td>\n",
       "      <td>False</td>\n",
       "      <td>False</td>\n",
       "      <td>False</td>\n",
       "    </tr>\n",
       "    <tr>\n",
       "      <th>2</th>\n",
       "      <td>1</td>\n",
       "      <td>3</td>\n",
       "      <td>26.0</td>\n",
       "      <td>0</td>\n",
       "      <td>0</td>\n",
       "      <td>7.9250</td>\n",
       "      <td>False</td>\n",
       "      <td>False</td>\n",
       "      <td>True</td>\n",
       "    </tr>\n",
       "    <tr>\n",
       "      <th>3</th>\n",
       "      <td>1</td>\n",
       "      <td>1</td>\n",
       "      <td>35.0</td>\n",
       "      <td>1</td>\n",
       "      <td>0</td>\n",
       "      <td>53.1000</td>\n",
       "      <td>False</td>\n",
       "      <td>False</td>\n",
       "      <td>True</td>\n",
       "    </tr>\n",
       "    <tr>\n",
       "      <th>4</th>\n",
       "      <td>0</td>\n",
       "      <td>3</td>\n",
       "      <td>35.0</td>\n",
       "      <td>0</td>\n",
       "      <td>0</td>\n",
       "      <td>8.0500</td>\n",
       "      <td>True</td>\n",
       "      <td>False</td>\n",
       "      <td>True</td>\n",
       "    </tr>\n",
       "    <tr>\n",
       "      <th>...</th>\n",
       "      <td>...</td>\n",
       "      <td>...</td>\n",
       "      <td>...</td>\n",
       "      <td>...</td>\n",
       "      <td>...</td>\n",
       "      <td>...</td>\n",
       "      <td>...</td>\n",
       "      <td>...</td>\n",
       "      <td>...</td>\n",
       "    </tr>\n",
       "    <tr>\n",
       "      <th>886</th>\n",
       "      <td>0</td>\n",
       "      <td>2</td>\n",
       "      <td>27.0</td>\n",
       "      <td>0</td>\n",
       "      <td>0</td>\n",
       "      <td>13.0000</td>\n",
       "      <td>True</td>\n",
       "      <td>False</td>\n",
       "      <td>True</td>\n",
       "    </tr>\n",
       "    <tr>\n",
       "      <th>887</th>\n",
       "      <td>1</td>\n",
       "      <td>1</td>\n",
       "      <td>19.0</td>\n",
       "      <td>0</td>\n",
       "      <td>0</td>\n",
       "      <td>30.0000</td>\n",
       "      <td>False</td>\n",
       "      <td>False</td>\n",
       "      <td>True</td>\n",
       "    </tr>\n",
       "    <tr>\n",
       "      <th>888</th>\n",
       "      <td>0</td>\n",
       "      <td>3</td>\n",
       "      <td>28.0</td>\n",
       "      <td>1</td>\n",
       "      <td>2</td>\n",
       "      <td>23.4500</td>\n",
       "      <td>False</td>\n",
       "      <td>False</td>\n",
       "      <td>True</td>\n",
       "    </tr>\n",
       "    <tr>\n",
       "      <th>889</th>\n",
       "      <td>1</td>\n",
       "      <td>1</td>\n",
       "      <td>26.0</td>\n",
       "      <td>0</td>\n",
       "      <td>0</td>\n",
       "      <td>30.0000</td>\n",
       "      <td>True</td>\n",
       "      <td>False</td>\n",
       "      <td>False</td>\n",
       "    </tr>\n",
       "    <tr>\n",
       "      <th>890</th>\n",
       "      <td>0</td>\n",
       "      <td>3</td>\n",
       "      <td>32.0</td>\n",
       "      <td>0</td>\n",
       "      <td>0</td>\n",
       "      <td>7.7500</td>\n",
       "      <td>True</td>\n",
       "      <td>True</td>\n",
       "      <td>False</td>\n",
       "    </tr>\n",
       "  </tbody>\n",
       "</table>\n",
       "<p>891 rows × 9 columns</p>\n",
       "</div>"
      ],
      "text/plain": [
       "     Survived  Pclass   Age  SibSp  Parch     Fare  Sex_male  Embarked_Q  \\\n",
       "0           0       3  22.0      1      0   7.2500      True       False   \n",
       "1           1       1  38.0      1      0  71.2833     False       False   \n",
       "2           1       3  26.0      0      0   7.9250     False       False   \n",
       "3           1       1  35.0      1      0  53.1000     False       False   \n",
       "4           0       3  35.0      0      0   8.0500      True       False   \n",
       "..        ...     ...   ...    ...    ...      ...       ...         ...   \n",
       "886         0       2  27.0      0      0  13.0000      True       False   \n",
       "887         1       1  19.0      0      0  30.0000     False       False   \n",
       "888         0       3  28.0      1      2  23.4500     False       False   \n",
       "889         1       1  26.0      0      0  30.0000      True       False   \n",
       "890         0       3  32.0      0      0   7.7500      True        True   \n",
       "\n",
       "     Embarked_S  \n",
       "0          True  \n",
       "1         False  \n",
       "2          True  \n",
       "3          True  \n",
       "4          True  \n",
       "..          ...  \n",
       "886        True  \n",
       "887        True  \n",
       "888        True  \n",
       "889       False  \n",
       "890       False  \n",
       "\n",
       "[891 rows x 9 columns]"
      ]
     },
     "execution_count": 17,
     "metadata": {},
     "output_type": "execute_result"
    }
   ],
   "source": [
    "df\n"
   ]
  },
  {
   "cell_type": "code",
   "execution_count": 18,
   "id": "9eef5690",
   "metadata": {
    "execution": {
     "iopub.execute_input": "2024-06-20T09:49:45.125294Z",
     "iopub.status.busy": "2024-06-20T09:49:45.124894Z",
     "iopub.status.idle": "2024-06-20T09:49:46.697660Z",
     "shell.execute_reply": "2024-06-20T09:49:46.696598Z"
    },
    "papermill": {
     "duration": 1.590558,
     "end_time": "2024-06-20T09:49:46.701229",
     "exception": false,
     "start_time": "2024-06-20T09:49:45.110671",
     "status": "completed"
    },
    "tags": []
   },
   "outputs": [
    {
     "data": {
      "text/plain": [
       "array([[<Axes: title={'center': 'Survived'}>,\n",
       "        <Axes: title={'center': 'Pclass'}>],\n",
       "       [<Axes: title={'center': 'Age'}>,\n",
       "        <Axes: title={'center': 'SibSp'}>],\n",
       "       [<Axes: title={'center': 'Parch'}>,\n",
       "        <Axes: title={'center': 'Fare'}>]], dtype=object)"
      ]
     },
     "execution_count": 18,
     "metadata": {},
     "output_type": "execute_result"
    },
    {
     "data": {
      "image/png": "[encoded data removed]",
      "text/plain": [
       "<Figure size 1500x800 with 6 Axes>"
      ]
     },
     "metadata": {},
     "output_type": "display_data"
    }
   ],
   "source": [
    "df.iloc[ : ,0:].hist(figsize=(15,8))"
   ]
  },
  {
   "cell_type": "code",
   "execution_count": 19,
   "id": "f00dd00d",
   "metadata": {
    "execution": {
     "iopub.execute_input": "2024-06-20T09:49:46.731007Z",
     "iopub.status.busy": "2024-06-20T09:49:46.730637Z",
     "iopub.status.idle": "2024-06-20T09:49:47.057302Z",
     "shell.execute_reply": "2024-06-20T09:49:47.056377Z"
    },
    "papermill": {
     "duration": 0.34436,
     "end_time": "2024-06-20T09:49:47.059916",
     "exception": false,
     "start_time": "2024-06-20T09:49:46.715556",
     "status": "completed"
    },
    "tags": []
   },
   "outputs": [],
   "source": [
    "from sklearn.model_selection import train_test_split\n",
    "from sklearn.linear_model import LogisticRegression"
   ]
  },
  {
   "cell_type": "code",
   "execution_count": 20,
   "id": "d0e1d356",
   "metadata": {
    "execution": {
     "iopub.execute_input": "2024-06-20T09:49:47.089497Z",
     "iopub.status.busy": "2024-06-20T09:49:47.089088Z",
     "iopub.status.idle": "2024-06-20T09:49:47.096048Z",
     "shell.execute_reply": "2024-06-20T09:49:47.094743Z"
    },
    "papermill": {
     "duration": 0.024561,
     "end_time": "2024-06-20T09:49:47.098313",
     "exception": false,
     "start_time": "2024-06-20T09:49:47.073752",
     "status": "completed"
    },
    "tags": []
   },
   "outputs": [],
   "source": [
    "X = df.drop(columns=['Survived'])\n",
    "y = df['Survived']"
   ]
  },
  {
   "cell_type": "code",
   "execution_count": 21,
   "id": "ddec3269",
   "metadata": {
    "execution": {
     "iopub.execute_input": "2024-06-20T09:49:47.128424Z",
     "iopub.status.busy": "2024-06-20T09:49:47.127386Z",
     "iopub.status.idle": "2024-06-20T09:49:47.136300Z",
     "shell.execute_reply": "2024-06-20T09:49:47.135473Z"
    },
    "papermill": {
     "duration": 0.026377,
     "end_time": "2024-06-20T09:49:47.138595",
     "exception": false,
     "start_time": "2024-06-20T09:49:47.112218",
     "status": "completed"
    },
    "tags": []
   },
   "outputs": [],
   "source": [
    "X_train, X_test, y_train, y_test = train_test_split(X, y, test_size=0.2, random_state=42)"
   ]
  },
  {
   "cell_type": "code",
   "execution_count": 22,
   "id": "ba611215",
   "metadata": {
    "execution": {
     "iopub.execute_input": "2024-06-20T09:49:47.167753Z",
     "iopub.status.busy": "2024-06-20T09:49:47.167327Z",
     "iopub.status.idle": "2024-06-20T09:49:47.172533Z",
     "shell.execute_reply": "2024-06-20T09:49:47.171385Z"
    },
    "papermill": {
     "duration": 0.022466,
     "end_time": "2024-06-20T09:49:47.174906",
     "exception": false,
     "start_time": "2024-06-20T09:49:47.152440",
     "status": "completed"
    },
    "tags": []
   },
   "outputs": [],
   "source": [
    "from sklearn.metrics import accuracy_score, classification_report\n",
    "from sklearn.metrics import mean_absolute_error"
   ]
  },
  {
   "cell_type": "code",
   "execution_count": 23,
   "id": "89f82d1a",
   "metadata": {
    "execution": {
     "iopub.execute_input": "2024-06-20T09:49:47.204369Z",
     "iopub.status.busy": "2024-06-20T09:49:47.203408Z",
     "iopub.status.idle": "2024-06-20T09:49:47.277543Z",
     "shell.execute_reply": "2024-06-20T09:49:47.275294Z"
    },
    "papermill": {
     "duration": 0.092464,
     "end_time": "2024-06-20T09:49:47.281161",
     "exception": false,
     "start_time": "2024-06-20T09:49:47.188697",
     "status": "completed"
    },
    "tags": []
   },
   "outputs": [
    {
     "name": "stdout",
     "output_type": "stream",
     "text": [
      "Logistic Regression Accuracy: 0.8100558659217877\n",
      "              precision    recall  f1-score   support\n",
      "\n",
      "           0       0.83      0.86      0.84       105\n",
      "           1       0.79      0.74      0.76        74\n",
      "\n",
      "    accuracy                           0.81       179\n",
      "   macro avg       0.81      0.80      0.80       179\n",
      "weighted avg       0.81      0.81      0.81       179\n",
      "\n"
     ]
    },
    {
     "name": "stderr",
     "output_type": "stream",
     "text": [
      "/opt/conda/lib/python3.10/site-packages/sklearn/linear_model/_logistic.py:458: ConvergenceWarning: lbfgs failed to converge (status=1):\n",
      "STOP: TOTAL NO. of ITERATIONS REACHED LIMIT.\n",
      "\n",
      "Increase the number of iterations (max_iter) or scale the data as shown in:\n",
      "    https://scikit-learn.org/stable/modules/preprocessing.html\n",
      "Please also refer to the documentation for alternative solver options:\n",
      "    https://scikit-learn.org/stable/modules/linear_model.html#logistic-regression\n",
      "  n_iter_i = _check_optimize_result(\n"
     ]
    }
   ],
   "source": [
    "logreg = LogisticRegression(max_iter=200)\n",
    "logreg.fit(X_train, y_train)\n",
    "y_pred_logreg = logreg.predict(X_test)\n",
    "print(\"Logistic Regression Accuracy:\", accuracy_score(y_test, y_pred_logreg))\n",
    "print(classification_report(y_test, y_pred_logreg))\n"
   ]
  },
  {
   "cell_type": "markdown",
   "id": "84c4f723",
   "metadata": {
    "papermill": {
     "duration": 0.016828,
     "end_time": "2024-06-20T09:49:47.314844",
     "exception": false,
     "start_time": "2024-06-20T09:49:47.298016",
     "status": "completed"
    },
    "tags": []
   },
   "source": [
    "Alternative code \n",
    "\n",
    "model = LinearRegression()\n",
    "\n",
    "\n",
    "model.fit(x_train,y_train)\n",
    "\n",
    "y_pred = model.predict(X_test)"
   ]
  },
  {
   "cell_type": "code",
   "execution_count": 24,
   "id": "b60e84c4",
   "metadata": {
    "execution": {
     "iopub.execute_input": "2024-06-20T09:49:47.345346Z",
     "iopub.status.busy": "2024-06-20T09:49:47.344393Z",
     "iopub.status.idle": "2024-06-20T09:49:47.349505Z",
     "shell.execute_reply": "2024-06-20T09:49:47.348481Z"
    },
    "papermill": {
     "duration": 0.022824,
     "end_time": "2024-06-20T09:49:47.351851",
     "exception": false,
     "start_time": "2024-06-20T09:49:47.329027",
     "status": "completed"
    },
    "tags": []
   },
   "outputs": [],
   "source": [
    "from sklearn.linear_model import LinearRegression\n",
    "from sklearn.metrics import mean_absolute_error"
   ]
  },
  {
   "cell_type": "code",
   "execution_count": 25,
   "id": "806b1c68",
   "metadata": {
    "execution": {
     "iopub.execute_input": "2024-06-20T09:49:47.388899Z",
     "iopub.status.busy": "2024-06-20T09:49:47.388447Z",
     "iopub.status.idle": "2024-06-20T09:49:47.394173Z",
     "shell.execute_reply": "2024-06-20T09:49:47.392686Z"
    },
    "papermill": {
     "duration": 0.027575,
     "end_time": "2024-06-20T09:49:47.397184",
     "exception": false,
     "start_time": "2024-06-20T09:49:47.369609",
     "status": "completed"
    },
    "tags": []
   },
   "outputs": [],
   "source": [
    "model = LinearRegression()\n"
   ]
  },
  {
   "cell_type": "code",
   "execution_count": 26,
   "id": "5dbd7f8e",
   "metadata": {
    "execution": {
     "iopub.execute_input": "2024-06-20T09:49:47.434199Z",
     "iopub.status.busy": "2024-06-20T09:49:47.433743Z",
     "iopub.status.idle": "2024-06-20T09:49:47.459886Z",
     "shell.execute_reply": "2024-06-20T09:49:47.458895Z"
    },
    "papermill": {
     "duration": 0.047789,
     "end_time": "2024-06-20T09:49:47.462577",
     "exception": false,
     "start_time": "2024-06-20T09:49:47.414788",
     "status": "completed"
    },
    "tags": []
   },
   "outputs": [],
   "source": [
    "model.fit(X_train, y_train)\n",
    "y_pred = model.predict(X_test)"
   ]
  },
  {
   "cell_type": "code",
   "execution_count": 27,
   "id": "8a37247d",
   "metadata": {
    "execution": {
     "iopub.execute_input": "2024-06-20T09:49:47.493032Z",
     "iopub.status.busy": "2024-06-20T09:49:47.492632Z",
     "iopub.status.idle": "2024-06-20T09:49:47.499151Z",
     "shell.execute_reply": "2024-06-20T09:49:47.498081Z"
    },
    "papermill": {
     "duration": 0.025239,
     "end_time": "2024-06-20T09:49:47.502199",
     "exception": false,
     "start_time": "2024-06-20T09:49:47.476960",
     "status": "completed"
    },
    "tags": []
   },
   "outputs": [
    {
     "name": "stdout",
     "output_type": "stream",
     "text": [
      "Mean Absolute Error (MAE): 0.2851455248860689\n"
     ]
    }
   ],
   "source": [
    "mae = mean_absolute_error(y_test, y_pred)\n",
    "print(\"Mean Absolute Error (MAE):\", mae)"
   ]
  },
  {
   "cell_type": "code",
   "execution_count": 28,
   "id": "c9796926",
   "metadata": {
    "execution": {
     "iopub.execute_input": "2024-06-20T09:49:47.532483Z",
     "iopub.status.busy": "2024-06-20T09:49:47.532099Z",
     "iopub.status.idle": "2024-06-20T09:49:47.678988Z",
     "shell.execute_reply": "2024-06-20T09:49:47.677811Z"
    },
    "papermill": {
     "duration": 0.165269,
     "end_time": "2024-06-20T09:49:47.681680",
     "exception": false,
     "start_time": "2024-06-20T09:49:47.516411",
     "status": "completed"
    },
    "tags": []
   },
   "outputs": [],
   "source": [
    "from sklearn.ensemble import RandomForestClassifier, GradientBoostingClassifier"
   ]
  },
  {
   "cell_type": "code",
   "execution_count": 29,
   "id": "74e203a9",
   "metadata": {
    "execution": {
     "iopub.execute_input": "2024-06-20T09:49:47.712774Z",
     "iopub.status.busy": "2024-06-20T09:49:47.711978Z",
     "iopub.status.idle": "2024-06-20T09:49:48.009471Z",
     "shell.execute_reply": "2024-06-20T09:49:48.008232Z"
    },
    "papermill": {
     "duration": 0.315648,
     "end_time": "2024-06-20T09:49:48.011940",
     "exception": false,
     "start_time": "2024-06-20T09:49:47.696292",
     "status": "completed"
    },
    "tags": []
   },
   "outputs": [
    {
     "name": "stdout",
     "output_type": "stream",
     "text": [
      "Random Forest Accuracy: 0.8212290502793296\n",
      "              precision    recall  f1-score   support\n",
      "\n",
      "           0       0.83      0.87      0.85       105\n",
      "           1       0.80      0.76      0.78        74\n",
      "\n",
      "    accuracy                           0.82       179\n",
      "   macro avg       0.82      0.81      0.81       179\n",
      "weighted avg       0.82      0.82      0.82       179\n",
      "\n"
     ]
    }
   ],
   "source": [
    "rf = RandomForestClassifier(n_estimators=100, random_state=42)\n",
    "rf.fit(X_train, y_train)\n",
    "y_pred_rf = rf.predict(X_test)\n",
    "print(\"Random Forest Accuracy:\", accuracy_score(y_test, y_pred_rf))\n",
    "print(classification_report(y_test, y_pred_rf))"
   ]
  },
  {
   "cell_type": "code",
   "execution_count": 30,
   "id": "1b258bba",
   "metadata": {
    "execution": {
     "iopub.execute_input": "2024-06-20T09:49:48.043164Z",
     "iopub.status.busy": "2024-06-20T09:49:48.042430Z",
     "iopub.status.idle": "2024-06-20T09:49:48.213181Z",
     "shell.execute_reply": "2024-06-20T09:49:48.212099Z"
    },
    "papermill": {
     "duration": 0.189406,
     "end_time": "2024-06-20T09:49:48.215692",
     "exception": false,
     "start_time": "2024-06-20T09:49:48.026286",
     "status": "completed"
    },
    "tags": []
   },
   "outputs": [
    {
     "name": "stdout",
     "output_type": "stream",
     "text": [
      "Gradient Boosting Accuracy: 0.8044692737430168\n",
      "              precision    recall  f1-score   support\n",
      "\n",
      "           0       0.80      0.90      0.84       105\n",
      "           1       0.82      0.68      0.74        74\n",
      "\n",
      "    accuracy                           0.80       179\n",
      "   macro avg       0.81      0.79      0.79       179\n",
      "weighted avg       0.81      0.80      0.80       179\n",
      "\n"
     ]
    }
   ],
   "source": [
    "gb = GradientBoostingClassifier(n_estimators=100, random_state=42)\n",
    "gb.fit(X_train, y_train)\n",
    "y_pred_gb = gb.predict(X_test)\n",
    "print(\"Gradient Boosting Accuracy:\", accuracy_score(y_test, y_pred_gb))\n",
    "print(classification_report(y_test, y_pred_gb))"
   ]
  },
  {
   "cell_type": "code",
   "execution_count": 31,
   "id": "29434c4e",
   "metadata": {
    "execution": {
     "iopub.execute_input": "2024-06-20T09:49:48.246761Z",
     "iopub.status.busy": "2024-06-20T09:49:48.246326Z",
     "iopub.status.idle": "2024-06-20T09:49:48.252838Z",
     "shell.execute_reply": "2024-06-20T09:49:48.251680Z"
    },
    "papermill": {
     "duration": 0.025273,
     "end_time": "2024-06-20T09:49:48.255861",
     "exception": false,
     "start_time": "2024-06-20T09:49:48.230588",
     "status": "completed"
    },
    "tags": []
   },
   "outputs": [
    {
     "name": "stdout",
     "output_type": "stream",
     "text": [
      "[Errno 2] No such file or directory: 'CODSOFT_tasks'\n",
      "/kaggle/working\n"
     ]
    }
   ],
   "source": [
    "%cd CODSOFT_tasks"
   ]
  }
 ],
 "metadata": {
  "kaggle": {
   "accelerator": "none",
   "dataSources": [
    {
     "datasetId": 1818188,
     "sourceId": 2965537,
     "sourceType": "datasetVersion"
    }
   ],
   "dockerImageVersionId": 30715,
   "isGpuEnabled": false,
   "isInternetEnabled": false,
   "language": "python",
   "sourceType": "notebook"
  },
  "kernelspec": {
   "display_name": "Python 3",
   "language": "python",
   "name": "python3"
  },
  "language_info": {
   "codemirror_mode": {
    "name": "ipython",
    "version": 3
   },
   "file_extension": ".py",
   "mimetype": "text/x-python",
   "name": "python",
   "nbconvert_exporter": "python",
   "pygments_lexer": "ipython3",
   "version": "3.10.13"
  },
  "papermill": {
   "default_parameters": {},
   "duration": 9.798265,
   "end_time": "2024-06-20T09:49:48.892825",
   "environment_variables": {},
   "exception": null,
   "input_path": "__notebook__.ipynb",
   "output_path": "__notebook__.ipynb",
   "parameters": {},
   "start_time": "2024-06-20T09:49:39.094560",
   "version": "2.5.0"
  }
 },
 "nbformat": 4,
 "nbformat_minor": 5
}
